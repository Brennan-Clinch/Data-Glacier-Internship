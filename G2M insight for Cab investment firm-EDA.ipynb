{
 "cells": [
  {
   "cell_type": "markdown",
   "id": "6a282938",
   "metadata": {},
   "source": [
    " # G2M insight for Cab investment firm\n",
    " ## By Brennan Clinch\n",
    " ### Data Science Intern at Data Glacier "
   ]
  },
  {
   "cell_type": "markdown",
   "id": "b8c7641f",
   "metadata": {},
   "source": [
    "Goal: Determine the best Cab company for XYZ to invest in through exploratory data analysis"
   ]
  },
  {
   "cell_type": "markdown",
   "id": "046de494",
   "metadata": {},
   "source": [
    "## Import Data and Libraries\n",
    "\n",
    "#### Import Libraries"
   ]
  },
  {
   "cell_type": "code",
   "execution_count": 1,
   "id": "471df8e2",
   "metadata": {},
   "outputs": [],
   "source": [
    "import pandas as pd\n",
    "import numpy as np\n",
    "import matplotlib.pyplot as plt\n",
    "import seaborn as sns"
   ]
  },
  {
   "cell_type": "markdown",
   "id": "587be0cd",
   "metadata": {},
   "source": [
    "#### Import Data"
   ]
  },
  {
   "cell_type": "code",
   "execution_count": null,
   "id": "124e05ef",
   "metadata": {},
   "outputs": [],
   "source": []
  }
 ],
 "metadata": {
  "kernelspec": {
   "display_name": "Python 3 (ipykernel)",
   "language": "python",
   "name": "python3"
  },
  "language_info": {
   "codemirror_mode": {
    "name": "ipython",
    "version": 3
   },
   "file_extension": ".py",
   "mimetype": "text/x-python",
   "name": "python",
   "nbconvert_exporter": "python",
   "pygments_lexer": "ipython3",
   "version": "3.9.12"
  }
 },
 "nbformat": 4,
 "nbformat_minor": 5
}
